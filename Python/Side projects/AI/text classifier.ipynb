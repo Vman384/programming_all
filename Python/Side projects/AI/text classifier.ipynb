{
 "cells": [
  {
   "cell_type": "code",
   "execution_count": 60,
   "metadata": {},
   "outputs": [],
   "source": [
    "import numpy as np\n",
    "import pandas as pd\n",
    "import matplotlib.pyplot as plt\n",
    "import tensorflow as tf\n",
    "import tensorflow_hub as hub"
   ]
  },
  {
   "cell_type": "code",
   "execution_count": 61,
   "metadata": {},
   "outputs": [
    {
     "data": {
      "text/html": [
       "<div>\n",
       "<style scoped>\n",
       "    .dataframe tbody tr th:only-of-type {\n",
       "        vertical-align: middle;\n",
       "    }\n",
       "\n",
       "    .dataframe tbody tr th {\n",
       "        vertical-align: top;\n",
       "    }\n",
       "\n",
       "    .dataframe thead th {\n",
       "        text-align: right;\n",
       "    }\n",
       "</style>\n",
       "<table border=\"1\" class=\"dataframe\">\n",
       "  <thead>\n",
       "    <tr style=\"text-align: right;\">\n",
       "      <th></th>\n",
       "      <th>country</th>\n",
       "      <th>description</th>\n",
       "      <th>designation</th>\n",
       "      <th>points</th>\n",
       "      <th>price</th>\n",
       "      <th>province</th>\n",
       "      <th>region_1</th>\n",
       "      <th>region_2</th>\n",
       "      <th>taster_name</th>\n",
       "      <th>taster_twitter_handle</th>\n",
       "      <th>title</th>\n",
       "      <th>variety</th>\n",
       "      <th>winery</th>\n",
       "    </tr>\n",
       "  </thead>\n",
       "  <tbody>\n",
       "    <tr>\n",
       "      <th>1</th>\n",
       "      <td>Portugal</td>\n",
       "      <td>This is ripe and fruity, a wine that is smooth...</td>\n",
       "      <td>Avidagos</td>\n",
       "      <td>87</td>\n",
       "      <td>15.0</td>\n",
       "      <td>Douro</td>\n",
       "      <td>NaN</td>\n",
       "      <td>NaN</td>\n",
       "      <td>Roger Voss</td>\n",
       "      <td>@vossroger</td>\n",
       "      <td>Quinta dos Avidagos 2011 Avidagos Red (Douro)</td>\n",
       "      <td>Portuguese Red</td>\n",
       "      <td>Quinta dos Avidagos</td>\n",
       "    </tr>\n",
       "    <tr>\n",
       "      <th>2</th>\n",
       "      <td>US</td>\n",
       "      <td>Tart and snappy, the flavors of lime flesh and...</td>\n",
       "      <td>NaN</td>\n",
       "      <td>87</td>\n",
       "      <td>14.0</td>\n",
       "      <td>Oregon</td>\n",
       "      <td>Willamette Valley</td>\n",
       "      <td>Willamette Valley</td>\n",
       "      <td>Paul Gregutt</td>\n",
       "      <td>@paulgwine</td>\n",
       "      <td>Rainstorm 2013 Pinot Gris (Willamette Valley)</td>\n",
       "      <td>Pinot Gris</td>\n",
       "      <td>Rainstorm</td>\n",
       "    </tr>\n",
       "    <tr>\n",
       "      <th>3</th>\n",
       "      <td>US</td>\n",
       "      <td>Pineapple rind, lemon pith and orange blossom ...</td>\n",
       "      <td>Reserve Late Harvest</td>\n",
       "      <td>87</td>\n",
       "      <td>13.0</td>\n",
       "      <td>Michigan</td>\n",
       "      <td>Lake Michigan Shore</td>\n",
       "      <td>NaN</td>\n",
       "      <td>Alexander Peartree</td>\n",
       "      <td>NaN</td>\n",
       "      <td>St. Julian 2013 Reserve Late Harvest Riesling ...</td>\n",
       "      <td>Riesling</td>\n",
       "      <td>St. Julian</td>\n",
       "    </tr>\n",
       "    <tr>\n",
       "      <th>4</th>\n",
       "      <td>US</td>\n",
       "      <td>Much like the regular bottling from 2012, this...</td>\n",
       "      <td>Vintner's Reserve Wild Child Block</td>\n",
       "      <td>87</td>\n",
       "      <td>65.0</td>\n",
       "      <td>Oregon</td>\n",
       "      <td>Willamette Valley</td>\n",
       "      <td>Willamette Valley</td>\n",
       "      <td>Paul Gregutt</td>\n",
       "      <td>@paulgwine</td>\n",
       "      <td>Sweet Cheeks 2012 Vintner's Reserve Wild Child...</td>\n",
       "      <td>Pinot Noir</td>\n",
       "      <td>Sweet Cheeks</td>\n",
       "    </tr>\n",
       "    <tr>\n",
       "      <th>5</th>\n",
       "      <td>Spain</td>\n",
       "      <td>Blackberry and raspberry aromas show a typical...</td>\n",
       "      <td>Ars In Vitro</td>\n",
       "      <td>87</td>\n",
       "      <td>15.0</td>\n",
       "      <td>Northern Spain</td>\n",
       "      <td>Navarra</td>\n",
       "      <td>NaN</td>\n",
       "      <td>Michael Schachner</td>\n",
       "      <td>@wineschach</td>\n",
       "      <td>Tandem 2011 Ars In Vitro Tempranillo-Merlot (N...</td>\n",
       "      <td>Tempranillo-Merlot</td>\n",
       "      <td>Tandem</td>\n",
       "    </tr>\n",
       "  </tbody>\n",
       "</table>\n",
       "</div>"
      ],
      "text/plain": [
       "    country                                        description   \n",
       "1  Portugal  This is ripe and fruity, a wine that is smooth...  \\\n",
       "2        US  Tart and snappy, the flavors of lime flesh and...   \n",
       "3        US  Pineapple rind, lemon pith and orange blossom ...   \n",
       "4        US  Much like the regular bottling from 2012, this...   \n",
       "5     Spain  Blackberry and raspberry aromas show a typical...   \n",
       "\n",
       "                          designation  points  price        province   \n",
       "1                            Avidagos      87   15.0           Douro  \\\n",
       "2                                 NaN      87   14.0          Oregon   \n",
       "3                Reserve Late Harvest      87   13.0        Michigan   \n",
       "4  Vintner's Reserve Wild Child Block      87   65.0          Oregon   \n",
       "5                        Ars In Vitro      87   15.0  Northern Spain   \n",
       "\n",
       "              region_1           region_2         taster_name   \n",
       "1                  NaN                NaN          Roger Voss  \\\n",
       "2    Willamette Valley  Willamette Valley        Paul Gregutt   \n",
       "3  Lake Michigan Shore                NaN  Alexander Peartree   \n",
       "4    Willamette Valley  Willamette Valley        Paul Gregutt   \n",
       "5              Navarra                NaN   Michael Schachner   \n",
       "\n",
       "  taster_twitter_handle                                              title   \n",
       "1            @vossroger      Quinta dos Avidagos 2011 Avidagos Red (Douro)  \\\n",
       "2           @paulgwine       Rainstorm 2013 Pinot Gris (Willamette Valley)   \n",
       "3                   NaN  St. Julian 2013 Reserve Late Harvest Riesling ...   \n",
       "4           @paulgwine   Sweet Cheeks 2012 Vintner's Reserve Wild Child...   \n",
       "5           @wineschach  Tandem 2011 Ars In Vitro Tempranillo-Merlot (N...   \n",
       "\n",
       "              variety               winery  \n",
       "1      Portuguese Red  Quinta dos Avidagos  \n",
       "2          Pinot Gris            Rainstorm  \n",
       "3            Riesling           St. Julian  \n",
       "4          Pinot Noir         Sweet Cheeks  \n",
       "5  Tempranillo-Merlot               Tandem  "
      ]
     },
     "execution_count": 61,
     "metadata": {},
     "output_type": "execute_result"
    }
   ],
   "source": [
    "data = pd.read_csv(\"wine-reviews.csv\")\n",
    "data = data.iloc[:,1:]\n",
    "data = data.dropna(subset=['description','price'])\n",
    "data.head()"
   ]
  },
  {
   "cell_type": "code",
   "execution_count": 62,
   "metadata": {},
   "outputs": [
    {
     "data": {
      "text/plain": [
       "(array([  395.,   680.,  1772.,  2886.,  6099.,  8902., 11745., 15767.,\n",
       "        16014., 11324., 14361., 10564.,  8871.,  5935.,  3449.,  1406.,\n",
       "          482.,   207.,    69.,    47.]),\n",
       " array([ 80.,  81.,  82.,  83.,  84.,  85.,  86.,  87.,  88.,  89.,  90.,\n",
       "         91.,  92.,  93.,  94.,  95.,  96.,  97.,  98.,  99., 100.]),\n",
       " <BarContainer object of 20 artists>)"
      ]
     },
     "execution_count": 62,
     "metadata": {},
     "output_type": "execute_result"
    },
    {
     "data": {
      "image/png": "[encoded data removed]",
      "text/plain": [
       "<Figure size 640x480 with 1 Axes>"
      ]
     },
     "metadata": {},
     "output_type": "display_data"
    }
   ],
   "source": [
    "plt.hist(data.points, bins = 20)"
   ]
  },
  {
   "cell_type": "code",
   "execution_count": 63,
   "metadata": {},
   "outputs": [
    {
     "data": {
      "text/html": [
       "<div>\n",
       "<style scoped>\n",
       "    .dataframe tbody tr th:only-of-type {\n",
       "        vertical-align: middle;\n",
       "    }\n",
       "\n",
       "    .dataframe tbody tr th {\n",
       "        vertical-align: top;\n",
       "    }\n",
       "\n",
       "    .dataframe thead th {\n",
       "        text-align: right;\n",
       "    }\n",
       "</style>\n",
       "<table border=\"1\" class=\"dataframe\">\n",
       "  <thead>\n",
       "    <tr style=\"text-align: right;\">\n",
       "      <th></th>\n",
       "      <th>description</th>\n",
       "      <th>label</th>\n",
       "    </tr>\n",
       "  </thead>\n",
       "  <tbody>\n",
       "    <tr>\n",
       "      <th>129966</th>\n",
       "      <td>Notes of honeysuckle and cantaloupe sweeten th...</td>\n",
       "      <td>1</td>\n",
       "    </tr>\n",
       "    <tr>\n",
       "      <th>129967</th>\n",
       "      <td>Citation is given as much as a decade of bottl...</td>\n",
       "      <td>1</td>\n",
       "    </tr>\n",
       "    <tr>\n",
       "      <th>129968</th>\n",
       "      <td>Well-drained gravel soil gives this wine its c...</td>\n",
       "      <td>1</td>\n",
       "    </tr>\n",
       "    <tr>\n",
       "      <th>129969</th>\n",
       "      <td>A dry style of Pinot Gris, this is crisp with ...</td>\n",
       "      <td>1</td>\n",
       "    </tr>\n",
       "    <tr>\n",
       "      <th>129970</th>\n",
       "      <td>Big, rich and off-dry, this is powered by inte...</td>\n",
       "      <td>1</td>\n",
       "    </tr>\n",
       "  </tbody>\n",
       "</table>\n",
       "</div>"
      ],
      "text/plain": [
       "                                              description  label\n",
       "129966  Notes of honeysuckle and cantaloupe sweeten th...      1\n",
       "129967  Citation is given as much as a decade of bottl...      1\n",
       "129968  Well-drained gravel soil gives this wine its c...      1\n",
       "129969  A dry style of Pinot Gris, this is crisp with ...      1\n",
       "129970  Big, rich and off-dry, this is powered by inte...      1"
      ]
     },
     "execution_count": 63,
     "metadata": {},
     "output_type": "execute_result"
    }
   ],
   "source": [
    "data['label'] = (data.points >= 90).astype(int)\n",
    "data = data[['description','label']]\n",
    "data.tail()"
   ]
  },
  {
   "cell_type": "code",
   "execution_count": 64,
   "metadata": {},
   "outputs": [],
   "source": [
    "train, val, test = np.split(data.sample(frac=1),[int(0.8*len(data)),int(0.9*len(data))]) #splits up the data for train val and test, 80%, 10% and 10% respectively"
   ]
  },
  {
   "cell_type": "code",
   "execution_count": 65,
   "metadata": {},
   "outputs": [
    {
     "data": {
      "text/plain": [
       "(96780, 12097, 12098)"
      ]
     },
     "execution_count": 65,
     "metadata": {},
     "output_type": "execute_result"
    }
   ],
   "source": [
    "len(train),len(val),len(test)"
   ]
  },
  {
   "cell_type": "code",
   "execution_count": 66,
   "metadata": {},
   "outputs": [],
   "source": [
    "def df_to_dataset(dataframe, shuffle=True, batch_size=1024):\n",
    "  df = dataframe.copy()\n",
    "  labels = df.pop('label')\n",
    "  df = df[\"description\"]\n",
    "  ds = tf.data.Dataset.from_tensor_slices((df, labels))\n",
    "  if shuffle:\n",
    "    ds = ds.shuffle(buffer_size=len(dataframe))\n",
    "  ds = ds.batch(batch_size)\n",
    "  ds = ds.prefetch(tf.data.AUTOTUNE)\n",
    "  return ds"
   ]
  },
  {
   "cell_type": "code",
   "execution_count": 67,
   "metadata": {},
   "outputs": [],
   "source": [
    "train_data = df_to_dataset(train)\n",
    "valid_data = df_to_dataset(val)\n",
    "test_data = df_to_dataset(test)"
   ]
  },
  {
   "cell_type": "code",
   "execution_count": 68,
   "metadata": {},
   "outputs": [
    {
     "data": {
      "text/plain": [
       "(<tf.Tensor: shape=(1024,), dtype=string, numpy=\n",
       " array([b'Frothy cream sets the stage and acts as a nice backdrop to fragrant aromas of peach, citrus, white flower and mineral. This is a clean and fresh bubbly to drink on hot summer afternoons. It has an easy, no-fuss mouthfeel but ends with a much-needed blast of citrus zest.',\n",
       "        b'This wine captures the passion fruit notes typical of Marlborough Sauvignon Blanc, then underscores them with a silky textural element. Hints of white nectarine and celery stalk add nuance to the long, white-grapefruit-inflected finish.',\n",
       "        b'Everything is front-end in this Chardonnay. The nose has plenty of tropical fruit, and with some toasted oak in the background. Decent acidity supports the fruit and the smooth mouthfeel is pleasing, but the wine cuts off abruptly with a somewhat short, resinous close.',\n",
       "        ...,\n",
       "        b'Made with organically cultivated grapes, this vibrant white offers a refined fragrance of yellow flower, orchard fruit, beeswax and nut. The aromas follow through to the palate, along with mature apple and a a note of clove. Bright acidity balances this out, while bitter almond signals the finish.',\n",
       "        b'Some attractive bottle age to this bone-dry wine gives a touch of toast over the fresh apple fruit. It is crisp and ripe, with a hint of austere, structured minerality. The bottle is ready to drink.',\n",
       "        b\"A subdued nose offers whiffs of leather, tobacco, black plum and an earthy note of game. The palate delivers blackberry, prune, white pepper and savory herb. It's already accessible with smooth, almost slippery tannins. Drink through 2019.\"],\n",
       "       dtype=object)>,\n",
       " <tf.Tensor: shape=(1024,), dtype=int32, numpy=array([0, 1, 0, ..., 0, 1, 1])>)"
      ]
     },
     "execution_count": 68,
     "metadata": {},
     "output_type": "execute_result"
    }
   ],
   "source": [
    "list(train_data)[0]"
   ]
  },
  {
   "cell_type": "markdown",
   "metadata": {},
   "source": [
    "Embedding + Model"
   ]
  },
  {
   "cell_type": "code",
   "execution_count": 69,
   "metadata": {},
   "outputs": [],
   "source": [
    "embedding = \"https://tfhub.dev/google/nnlm-en-dim50/2\"\n",
    "hub_layer = hub.KerasLayer(embedding, dtype=tf.string, trainable=True)"
   ]
  },
  {
   "cell_type": "code",
   "execution_count": 70,
   "metadata": {},
   "outputs": [
    {
     "data": {
      "text/plain": [
       "<tf.Tensor: shape=(1024, 50), dtype=float32, numpy=\n",
       "array([[ 0.53327733, -0.2162157 , -0.0931065 , ..., -0.10352376,\n",
       "         0.04597267,  0.08656409],\n",
       "       [ 0.29889226, -0.09083612, -0.06982586, ...,  0.01786539,\n",
       "        -0.39174154, -0.12005527],\n",
       "       [ 0.24439299, -0.47847292, -0.19932352, ...,  0.14913423,\n",
       "        -0.01750941,  0.05544849],\n",
       "       ...,\n",
       "       [ 0.36808825,  0.0113855 ,  0.2869266 , ..., -0.12132958,\n",
       "         0.01458882, -0.01096948],\n",
       "       [ 0.22887707, -0.7032598 , -0.23019825, ...,  0.07973789,\n",
       "         0.01765714, -0.03006377],\n",
       "       [ 0.26099697, -0.1684508 , -0.01677542, ...,  0.05503245,\n",
       "        -0.0534276 , -0.01583226]], dtype=float32)>"
      ]
     },
     "execution_count": 70,
     "metadata": {},
     "output_type": "execute_result"
    }
   ],
   "source": [
    "hub_layer(list(train_data)[0][0])"
   ]
  },
  {
   "cell_type": "code",
   "execution_count": 71,
   "metadata": {},
   "outputs": [],
   "source": [
    "model = tf.keras.Sequential()\n",
    "model.add(hub_layer)\n",
    "model.add(tf.keras.layers.Dense(16,activation='relu'))\n",
    "model.add(tf.keras.layers.Dropout(0.4)) #this drops out nodes that are not working and removes the node\n",
    "model.add(tf.keras.layers.Dense(16,activation='relu'))\n",
    "model.add(tf.keras.layers.Dropout(0.4))\n",
    "model.add(tf.keras.layers.Dense(1,activation='sigmoid'))\n"
   ]
  },
  {
   "cell_type": "code",
   "execution_count": 72,
   "metadata": {},
   "outputs": [],
   "source": [
    "model.compile(optimizer=tf.keras.optimizers.Adam(learning_rate=0.001),\n",
    "              loss=tf.keras.losses.BinaryCrossentropy(), #https://www.analyticsvidhya.com/blog/2021/03/binary-cross-entropy-log-loss-for-binary-classification/\n",
    "              metrics=['accuracy'])"
   ]
  },
  {
   "cell_type": "code",
   "execution_count": 73,
   "metadata": {},
   "outputs": [
    {
     "name": "stdout",
     "output_type": "stream",
     "text": [
      "95/95 [==============================] - 1s 8ms/step - loss: 0.7007 - accuracy: 0.4424\n"
     ]
    },
    {
     "data": {
      "text/plain": [
       "[0.7007438540458679, 0.44243645668029785]"
      ]
     },
     "execution_count": 73,
     "metadata": {},
     "output_type": "execute_result"
    }
   ],
   "source": [
    "model.evaluate(train_data)"
   ]
  },
  {
   "cell_type": "code",
   "execution_count": 74,
   "metadata": {},
   "outputs": [
    {
     "name": "stdout",
     "output_type": "stream",
     "text": [
      "12/12 [==============================] - 0s 7ms/step - loss: 0.7006 - accuracy: 0.4465\n"
     ]
    },
    {
     "data": {
      "text/plain": [
       "[0.7005906105041504, 0.4464743435382843]"
      ]
     },
     "execution_count": 74,
     "metadata": {},
     "output_type": "execute_result"
    }
   ],
   "source": [
    "model.evaluate(valid_data)"
   ]
  },
  {
   "cell_type": "code",
   "execution_count": 75,
   "metadata": {},
   "outputs": [
    {
     "name": "stdout",
     "output_type": "stream",
     "text": [
      "Epoch 1/5\n"
     ]
    },
    {
     "name": "stdout",
     "output_type": "stream",
     "text": [
      "95/95 [==============================] - 88s 917ms/step - loss: 0.6241 - accuracy: 0.6349 - val_loss: 0.5100 - val_accuracy: 0.7760\n",
      "Epoch 2/5\n",
      "95/95 [==============================] - 83s 869ms/step - loss: 0.4850 - accuracy: 0.7561 - val_loss: 0.4224 - val_accuracy: 0.8119\n",
      "Epoch 3/5\n",
      "95/95 [==============================] - 86s 904ms/step - loss: 0.4159 - accuracy: 0.8261 - val_loss: 0.4012 - val_accuracy: 0.8216\n",
      "Epoch 4/5\n",
      "95/95 [==============================] - 83s 867ms/step - loss: 0.3812 - accuracy: 0.8456 - val_loss: 0.3922 - val_accuracy: 0.8174\n",
      "Epoch 5/5\n",
      "95/95 [==============================] - 82s 864ms/step - loss: 0.3555 - accuracy: 0.8576 - val_loss: 0.3917 - val_accuracy: 0.8267\n"
     ]
    }
   ],
   "source": [
    "history = model.fit(train_data,epochs=5,validation_data=valid_data)"
   ]
  },
  {
   "cell_type": "code",
   "execution_count": 76,
   "metadata": {},
   "outputs": [
    {
     "data": {
      "image/png": "[encoded data removed]",
      "text/plain": [
       "<Figure size 640x480 with 1 Axes>"
      ]
     },
     "metadata": {},
     "output_type": "display_data"
    }
   ],
   "source": [
    "plt.plot(history.history['accuracy'], label=\"Training Acc\")\n",
    "plt.plot(history.history['val_accuracy'], label=\"Validation Acc\")\n",
    "plt.title(\"Accuracy of Model\")\n",
    "plt.ylabel(\"Accuracy\")\n",
    "plt.xlabel(\"Epochs\")\n",
    "plt.legend()\n",
    "plt.show()"
   ]
  },
  {
   "cell_type": "code",
   "execution_count": 77,
   "metadata": {},
   "outputs": [
    {
     "name": "stdout",
     "output_type": "stream",
     "text": [
      "12/12 [==============================] - 1s 82ms/step - loss: 0.3889 - accuracy: 0.8243\n"
     ]
    },
    {
     "data": {
      "text/plain": [
       "[0.3888972997665405, 0.8242684602737427]"
      ]
     },
     "execution_count": 77,
     "metadata": {},
     "output_type": "execute_result"
    }
   ],
   "source": [
    "model.evaluate(test_data)"
   ]
  },
  {
   "cell_type": "markdown",
   "metadata": {},
   "source": [
    "LTSM"
   ]
  },
  {
   "cell_type": "code",
   "execution_count": 78,
   "metadata": {},
   "outputs": [],
   "source": [
    "encoder = tf.keras.layers.TextVectorization(max_tokens=2000)\n",
    "encoder.adapt(train_data.map(lambda text, label:text))"
   ]
  },
  {
   "cell_type": "code",
   "execution_count": 79,
   "metadata": {},
   "outputs": [
    {
     "data": {
      "text/plain": [
       "array(['', '[UNK]', 'and', 'the', 'a', 'of', 'with', 'this', 'is', 'wine',\n",
       "       'flavors', 'in', 'to', 'it', 'its', 'on', 'fruit', 'aromas',\n",
       "       'palate', 'finish'], dtype='<U17')"
      ]
     },
     "execution_count": 79,
     "metadata": {},
     "output_type": "execute_result"
    }
   ],
   "source": [
    "vocab = np.array(encoder.get_vocabulary())\n",
    "vocab[:20]"
   ]
  },
  {
   "cell_type": "code",
   "execution_count": 80,
   "metadata": {},
   "outputs": [],
   "source": [
    "model = tf.keras.Sequential([\n",
    "    encoder,\n",
    "    tf.keras.layers.Embedding(\n",
    "        input_dim=len(encoder.get_vocabulary()),\n",
    "        output_dim=32,\n",
    "        mask_zero=True #masking is to handle varaible sequence lengths\n",
    "    ),\n",
    "    tf.keras.layers.LSTM(32),  # LSTM layer with hidden size of 32\n",
    "    tf.keras.layers.Dense(32, activation='relu'),\n",
    "    tf.keras.layers.Dropout(0.4),\n",
    "    tf.keras.layers.Dense(1, activation='sigmoid')\n",
    "\n",
    "])"
   ]
  },
  {
   "cell_type": "code",
   "execution_count": 81,
   "metadata": {},
   "outputs": [],
   "source": [
    "model.compile(optimizer=tf.keras.optimizers.Adam(learning_rate=0.001),\n",
    "              loss=tf.keras.losses.BinaryCrossentropy(), #https://www.analyticsvidhya.com/blog/2021/03/binary-cross-entropy-log-loss-for-binary-classification/\n",
    "              metrics=['accuracy'])"
   ]
  },
  {
   "cell_type": "code",
   "execution_count": 82,
   "metadata": {},
   "outputs": [
    {
     "name": "stdout",
     "output_type": "stream",
     "text": [
      "95/95 [==============================] - 9s 77ms/step - loss: 0.6939 - accuracy: 0.4142\n",
      "12/12 [==============================] - 1s 80ms/step - loss: 0.6938 - accuracy: 0.4132\n"
     ]
    },
    {
     "data": {
      "text/plain": [
       "[0.693832516670227, 0.4131602942943573]"
      ]
     },
     "execution_count": 82,
     "metadata": {},
     "output_type": "execute_result"
    }
   ],
   "source": [
    "model.evaluate(train_data)\n",
    "model.evaluate(valid_data)"
   ]
  },
  {
   "cell_type": "code",
   "execution_count": 83,
   "metadata": {},
   "outputs": [
    {
     "name": "stdout",
     "output_type": "stream",
     "text": [
      "Epoch 1/5\n",
      "95/95 [==============================] - 22s 195ms/step - loss: 0.5416 - accuracy: 0.7182 - val_loss: 0.3833 - val_accuracy: 0.8235\n",
      "Epoch 2/5\n",
      "95/95 [==============================] - 19s 197ms/step - loss: 0.3756 - accuracy: 0.8342 - val_loss: 0.3630 - val_accuracy: 0.8362\n",
      "Epoch 3/5\n",
      "95/95 [==============================] - 19s 198ms/step - loss: 0.3525 - accuracy: 0.8460 - val_loss: 0.3500 - val_accuracy: 0.8385\n",
      "Epoch 4/5\n",
      "95/95 [==============================] - 19s 198ms/step - loss: 0.3413 - accuracy: 0.8495 - val_loss: 0.3520 - val_accuracy: 0.8418\n",
      "Epoch 5/5\n",
      "95/95 [==============================] - 19s 199ms/step - loss: 0.3357 - accuracy: 0.8524 - val_loss: 0.3463 - val_accuracy: 0.8414\n"
     ]
    }
   ],
   "source": [
    "history = model.fit(train_data, epochs=5,validation_data=valid_data)"
   ]
  },
  {
   "cell_type": "code",
   "execution_count": 84,
   "metadata": {},
   "outputs": [
    {
     "name": "stdout",
     "output_type": "stream",
     "text": [
      "12/12 [==============================] - 1s 76ms/step - loss: 0.3512 - accuracy: 0.8440\n"
     ]
    },
    {
     "data": {
      "text/plain": [
       "[0.3512004315853119, 0.8440238237380981]"
      ]
     },
     "execution_count": 84,
     "metadata": {},
     "output_type": "execute_result"
    }
   ],
   "source": [
    "model.evaluate(test_data)"
   ]
  },
  {
   "cell_type": "code",
   "execution_count": 86,
   "metadata": {},
   "outputs": [
    {
     "name": "stderr",
     "output_type": "stream",
     "text": [
      "WARNING:absl:Found untraced functions such as _update_step_xla, lstm_cell_15_layer_call_fn, lstm_cell_15_layer_call_and_return_conditional_losses while saving (showing 3 of 3). These functions will not be directly callable after loading.\n"
     ]
    },
    {
     "name": "stdout",
     "output_type": "stream",
     "text": [
      "INFO:tensorflow:Assets written to: wine_review_classifier\\assets\n"
     ]
    },
    {
     "name": "stderr",
     "output_type": "stream",
     "text": [
      "INFO:tensorflow:Assets written to: wine_review_classifier\\assets\n"
     ]
    }
   ],
   "source": [
    "from tensorflow.keras.models import save_model\n",
    "\n",
    "# Save the model\n",
    "model.save('wine_review_classifier',save_format='tf')\n"
   ]
  },
  {
   "cell_type": "code",
   "execution_count": 87,
   "metadata": {},
   "outputs": [],
   "source": [
    "from tensorflow.keras.models import load_model\n",
    "model = load_model('wine_review_classifier')  # Again, no .h5 extension\n"
   ]
  },
  {
   "cell_type": "code",
   "execution_count": 97,
   "metadata": {},
   "outputs": [
    {
     "name": "stdout",
     "output_type": "stream",
     "text": [
      "1/1 [==============================] - 0s 35ms/step\n",
      "[[0.02826696]]\n"
     ]
    }
   ],
   "source": [
    "# New text to classify\n",
    "text_to_predict = [\"A sleek mix of tart berry, stem and herb, along with a hint of oak and chocolate, this is a fair value in a widely available, drink-now Oregon Pinot. The wine oak-aged for six months, whether in neutral or re-staved is not indicated.\"] \n",
    "\n",
    "# Use the model to predict the class\n",
    "predictions = model.predict(text_to_predict)\n",
    "\n",
    "# Output the prediction\n",
    "print(predictions)"
   ]
  },
  {
   "cell_type": "code",
   "execution_count": null,
   "metadata": {},
   "outputs": [],
   "source": []
  }
 ],
 "metadata": {
  "kernelspec": {
   "display_name": "Python 3",
   "language": "python",
   "name": "python3"
  },
  "language_info": {
   "codemirror_mode": {
    "name": "ipython",
    "version": 3
   },
   "file_extension": ".py",
   "mimetype": "text/x-python",
   "name": "python",
   "nbconvert_exporter": "python",
   "pygments_lexer": "ipython3",
   "version": "3.11.3"
  },
  "orig_nbformat": 4
 },
 "nbformat": 4,
 "nbformat_minor": 2
}
