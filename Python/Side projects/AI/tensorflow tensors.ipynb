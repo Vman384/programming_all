{
  "cells": [
    {
      "cell_type": "code",
      "execution_count": 2,
      "metadata": {
        "id": "nFFejjSB1I6n"
      },
      "outputs": [],
      "source": [
        "import tensorflow as tf"
      ]
    },
    {
      "attachments": {},
      "cell_type": "markdown",
      "metadata": {},
      "source": [
        "Tensors are simply mathematical objects that can be used to describe physical properties, just like scalars and vectors. In fact tensors are merely a generalisation of scalars and vectors; a scalar is a zero rank tensor, and a vector is a first rank tensor"
      ]
    },
    {
      "cell_type": "code",
      "execution_count": 3,
      "metadata": {
        "colab": {
          "base_uri": "https://localhost:8080/"
        },
        "id": "lQOVbXd-1Ld0",
        "outputId": "56ae8cdd-f364-448c-e352-8fcbfe58bbe4"
      },
      "outputs": [
        {
          "name": "stdout",
          "output_type": "stream",
          "text": [
            "tf.Tensor(4, shape=(), dtype=int32)\n"
          ]
        }
      ],
      "source": [
        "tensor_zero_d = tf.constant(4)\n",
        "print(tensor_zero_d)"
      ]
    },
    {
      "cell_type": "code",
      "execution_count": 4,
      "metadata": {},
      "outputs": [
        {
          "name": "stdout",
          "output_type": "stream",
          "text": [
            "tf.Tensor([ True  True False], shape=(3,), dtype=bool)\n"
          ]
        }
      ],
      "source": [
        "tensor_bool = tf.constant([True,True,False])\n",
        "print(tensor_bool)"
      ]
    },
    {
      "cell_type": "code",
      "execution_count": 5,
      "metadata": {},
      "outputs": [
        {
          "name": "stdout",
          "output_type": "stream",
          "text": [
            "tf.Tensor(b'hellow world', shape=(), dtype=string)\n"
          ]
        }
      ],
      "source": [
        "tensor_string = tf.constant('hellow world')\n",
        "print(tensor_string)"
      ]
    },
    {
      "cell_type": "code",
      "execution_count": 6,
      "metadata": {
        "colab": {
          "base_uri": "https://localhost:8080/"
        },
        "id": "3Lcp-HdH1pNE",
        "outputId": "5ce3d745-159e-48ef-ee00-3dc3f5c3cbf1"
      },
      "outputs": [
        {
          "name": "stdout",
          "output_type": "stream",
          "text": [
            "tf.Tensor([ 2.   0.  -3.   8.  90.1], shape=(5,), dtype=float32)\n"
          ]
        }
      ],
      "source": [
        "tensor_one_d = tf.constant([2,0,-3,8,90.1], dtype = tf.float32) #dtype specifies how much memory is to be allocated to the variable\n",
        "\n",
        "casted_tensor_one_d = tf.cast(tensor_one_d, dtype = tf.int16) #cast  will change data type, i.e from int to float or boolean\n",
        "print(tensor_one_d)"
      ]
    },
    {
      "cell_type": "code",
      "execution_count": 7,
      "metadata": {
        "colab": {
          "base_uri": "https://localhost:8080/"
        },
        "id": "hfcQxqo11x-7",
        "outputId": "e1e10af1-8a3a-4a27-e3f7-c95386e1b04b"
      },
      "outputs": [
        {
          "data": {
            "text/plain": [
              "<function print(*args, sep=' ', end='\\n', file=None, flush=False)>"
            ]
          },
          "execution_count": 7,
          "metadata": {},
          "output_type": "execute_result"
        }
      ],
      "source": [
        "tensor_two_d = tf.constant([\n",
        "    [1,2,0],\n",
        "    [3,5,-1],\n",
        "    [1,5,6],\n",
        "    [2,3,8]\n",
        "])\n",
        "print"
      ]
    },
    {
      "cell_type": "code",
      "execution_count": 8,
      "metadata": {
        "colab": {
          "base_uri": "https://localhost:8080/"
        },
        "id": "1u-LpDkT2I4L",
        "outputId": "b486de90-1473-47a2-f452-a5ad23764bb0"
      },
      "outputs": [
        {
          "name": "stdout",
          "output_type": "stream",
          "text": [
            "tf.Tensor(\n",
            "[[[ 1  2  0]\n",
            "  [ 3  5 -1]]\n",
            "\n",
            " [[10  2  0]\n",
            "  [ 1  0  2]]\n",
            "\n",
            " [[ 5  8  0]\n",
            "  [ 2  7  0]]\n",
            "\n",
            " [[ 2  1  9]\n",
            "  [ 4 -3 32]]], shape=(4, 2, 3), dtype=int32)\n"
          ]
        }
      ],
      "source": [
        "tensor_three_d = tf.constant([[[1,2,0],\n",
        " [3,5,-1]],\n",
        " [[10,2,0],\n",
        "  [1,0,2]],\n",
        "  [[5,8,0],\n",
        "   [2,7,0]],\n",
        "   [[2,1,9],\n",
        "    [4,-3,32]]])\n",
        "print(tensor_three_d)"
      ]
    },
    {
      "cell_type": "code",
      "execution_count": 9,
      "metadata": {
        "colab": {
          "base_uri": "https://localhost:8080/"
        },
        "id": "gr4eRnEj23Xr",
        "outputId": "3a71e45e-c225-4377-a5c7-6a5b64f548a0"
      },
      "outputs": [
        {
          "name": "stdout",
          "output_type": "stream",
          "text": [
            "3\n"
          ]
        }
      ],
      "source": [
        "print(tensor_three_d.ndim) #ndim tells us how many dimensions is our tensor"
      ]
    },
    {
      "cell_type": "code",
      "execution_count": 10,
      "metadata": {
        "colab": {
          "base_uri": "https://localhost:8080/"
        },
        "id": "HOpTTcGD3SOC",
        "outputId": "63d29b6e-370b-4644-de9a-f20aff4fe9e9"
      },
      "outputs": [
        {
          "name": "stdout",
          "output_type": "stream",
          "text": [
            "tf.Tensor(\n",
            "[[[[   1    2    0]\n",
            "   [   3    5   -1]]\n",
            "\n",
            "  [[  10    2    0]\n",
            "   [   1    0    2]]\n",
            "\n",
            "  [[   5    8    0]\n",
            "   [   2    7    0]]\n",
            "\n",
            "  [[   2    1    9]\n",
            "   [   4   -3   32]]]\n",
            "\n",
            "\n",
            " [[[  13   26    0]\n",
            "   [   3    5  -12]]\n",
            "\n",
            "  [[  10    2    0]\n",
            "   [   1    0   23]]\n",
            "\n",
            "  [[   5    8    0]\n",
            "   [   2    7    0]]\n",
            "\n",
            "  [[   2    1    9]\n",
            "   [   4  -30   32]]]\n",
            "\n",
            "\n",
            " [[[ 103   26    0]\n",
            "   [   3   50  -12]]\n",
            "\n",
            "  [[ 100    2    0]\n",
            "   [   1    0   23]]\n",
            "\n",
            "  [[   5   28    0]\n",
            "   [   2    3    0]]\n",
            "\n",
            "  [[  22    1    9]\n",
            "   [  44 -320   32]]]], shape=(3, 4, 2, 3), dtype=int32)\n"
          ]
        }
      ],
      "source": [
        "tensor_four_d = tf.constant(\n",
        " [\n",
        " [[[1,2,0],\n",
        " [3,5,-1]],\n",
        " [[10,2,0],\n",
        "  [1,0,2]],\n",
        "  [[5,8,0],\n",
        "   [2,7,0]],\n",
        "   [[2,1,9],\n",
        "    [4,-3,32]]],\n",
        "\n",
        "[[[13,26,0],\n",
        " [3,5,-12]],\n",
        " [[10,2,0],\n",
        "  [1,0,23]],\n",
        "  [[5,8,0],\n",
        "   [2,7,0]],\n",
        "   [[2,1,9],\n",
        "    [4,-30,32]]],\n",
        "\n",
        "[[[103,26,0],\n",
        " [3,50,-12]],\n",
        " [[100,2,0],\n",
        "  [1,0,23]],\n",
        "  [[5,28,0],\n",
        "   [2,3,0]],\n",
        "   [[22,1,9],\n",
        "    [44,-320,32]]]\n",
        "\n",
        "])\n",
        "print(tensor_four_d)"
      ]
    },
    {
      "cell_type": "code",
      "execution_count": 11,
      "metadata": {
        "id": "p1aCCsOJ4tbU"
      },
      "outputs": [],
      "source": [
        "import numpy as np"
      ]
    },
    {
      "cell_type": "code",
      "execution_count": 12,
      "metadata": {},
      "outputs": [
        {
          "name": "stdout",
          "output_type": "stream",
          "text": [
            "[1 2 4]\n"
          ]
        }
      ],
      "source": [
        "np_array = np.array([1,2,4])\n",
        "print(np_array)"
      ]
    },
    {
      "cell_type": "code",
      "execution_count": 13,
      "metadata": {},
      "outputs": [],
      "source": [
        "converted_tensor = tf.convert_to_tensor(np_array) #this converts a numpy array to a tensor "
      ]
    },
    {
      "cell_type": "code",
      "execution_count": 14,
      "metadata": {},
      "outputs": [
        {
          "name": "stdout",
          "output_type": "stream",
          "text": [
            "tf.Tensor(\n",
            "[[[1. 0. 0.]\n",
            "  [0. 1. 0.]\n",
            "  [0. 0. 1.]]\n",
            "\n",
            " [[1. 0. 0.]\n",
            "  [0. 1. 0.]\n",
            "  [0. 0. 1.]]], shape=(2, 3, 3), dtype=float32)\n"
          ]
        }
      ],
      "source": [
        "eye_tensor =tf.eye(\n",
        "num_rows = 3,\n",
        "batch_shape=[2,] #this tells us how many identiy matrix\n",
        ")\n",
        "print(eye_tensor) #eye tensor Returns a 2-D tensor with ones on the diagonal and zeros elsewhere"
      ]
    },
    {
      "cell_type": "code",
      "execution_count": 15,
      "metadata": {},
      "outputs": [
        {
          "name": "stdout",
          "output_type": "stream",
          "text": [
            "tf.Tensor(\n",
            "[[[8 8 8]\n",
            "  [8 8 8]]\n",
            "\n",
            " [[8 8 8]\n",
            "  [8 8 8]]], shape=(2, 2, 3), dtype=int32)\n"
          ]
        }
      ],
      "source": [
        "fill_tensor = tf.fill([2,2,3],8) #creates a tensor with a scalar value\n",
        "print(fill_tensor)"
      ]
    },
    {
      "cell_type": "code",
      "execution_count": 16,
      "metadata": {},
      "outputs": [
        {
          "name": "stdout",
          "output_type": "stream",
          "text": [
            "tf.Tensor(\n",
            "[[1. 1. 1.]\n",
            " [1. 1. 1.]\n",
            " [1. 1. 1.]\n",
            " [1. 1. 1.]\n",
            " [1. 1. 1.]], shape=(5, 3), dtype=float32)\n"
          ]
        }
      ],
      "source": [
        "ones_tensor = tf.ones([5,3]) #fills with ones\n",
        "print(ones_tensor)"
      ]
    },
    {
      "cell_type": "code",
      "execution_count": 17,
      "metadata": {},
      "outputs": [
        {
          "name": "stdout",
          "output_type": "stream",
          "text": [
            "tf.Tensor([4 2 3], shape=(3,), dtype=int32)\n"
          ]
        }
      ],
      "source": [
        "print(tf.shape(tensor_three_d))"
      ]
    },
    {
      "cell_type": "code",
      "execution_count": 18,
      "metadata": {},
      "outputs": [
        {
          "name": "stdout",
          "output_type": "stream",
          "text": [
            "tf.Tensor(\n",
            "[[ 8.792714    6.472342  ]\n",
            " [ 9.232388    7.8179994 ]\n",
            " [ 0.43278503 10.768731  ]], shape=(3, 2), dtype=float32)\n"
          ]
        }
      ],
      "source": [
        "random_tensor = tf.random.normal([3,2],mean = 10, stddev = 4) #creates a random tensor that is normally distributed values\n",
        "print(random_tensor)"
      ]
    },
    {
      "cell_type": "code",
      "execution_count": 19,
      "metadata": {},
      "outputs": [
        {
          "name": "stdout",
          "output_type": "stream",
          "text": [
            "tf.Tensor([6.965914   9.5992985  6.350217   0.49147487 6.9599104 ], shape=(5,), dtype=float32)\n"
          ]
        }
      ],
      "source": [
        "random_tensor_uniform = tf.random.uniform([5,],minval=0,maxval=10)\n",
        "print(random_tensor_uniform)"
      ]
    },
    {
      "cell_type": "code",
      "execution_count": 20,
      "metadata": {},
      "outputs": [
        {
          "name": "stdout",
          "output_type": "stream",
          "text": [
            "tf.Tensor([0.45824468 4.783611   0.14864683], shape=(3,), dtype=float32)\n",
            "tf.Tensor([4.922207  3.6823196 1.6838181], shape=(3,), dtype=float32)\n",
            "tf.Tensor([4.9109178 3.6035519 3.8738008], shape=(3,), dtype=float32)\n",
            "tf.Tensor([2.2287745 1.9468254 0.9572488], shape=(3,), dtype=float32)\n",
            "tf.Tensor([1.215176   3.0175824  0.03483772], shape=(3,), dtype=float32)\n"
          ]
        }
      ],
      "source": [
        "tf.random.set_seed(5)\n",
        "print(tf.random.uniform([3,],minval=0,maxval=5, seed=10))\n",
        "print(tf.random.uniform([3,],minval=0,maxval=5, seed=10))\n",
        "print(tf.random.uniform([3,],minval=0,maxval=5, seed=10))\n",
        "print(tf.random.uniform([3,],minval=0,maxval=5, seed=10))\n",
        "print(tf.random.uniform([3,],minval=0,maxval=5, seed=10))"
      ]
    },
    {
      "cell_type": "code",
      "execution_count": 21,
      "metadata": {},
      "outputs": [
        {
          "name": "stdout",
          "output_type": "stream",
          "text": [
            "tf.Tensor([0.45824468 4.783611   0.14864683], shape=(3,), dtype=float32)\n",
            "tf.Tensor([4.922207  3.6823196 1.6838181], shape=(3,), dtype=float32)\n",
            "tf.Tensor([4.9109178 3.6035519 3.8738008], shape=(3,), dtype=float32)\n",
            "tf.Tensor([2.2287745 1.9468254 0.9572488], shape=(3,), dtype=float32)\n",
            "tf.Tensor([1.215176   3.0175824  0.03483772], shape=(3,), dtype=float32)\n"
          ]
        }
      ],
      "source": [
        "tf.random.set_seed(5)\n",
        "print(tf.random.uniform([3,],minval=0,maxval=5, seed=10))\n",
        "print(tf.random.uniform([3,],minval=0,maxval=5, seed=10))\n",
        "print(tf.random.uniform([3,],minval=0,maxval=5, seed=10))\n",
        "print(tf.random.uniform([3,],minval=0,maxval=5, seed=10))\n",
        "print(tf.random.uniform([3,],minval=0,maxval=5, seed=10))"
      ]
    },
    {
      "attachments": {},
      "cell_type": "markdown",
      "metadata": {},
      "source": [
        "Indexing"
      ]
    },
    {
      "cell_type": "code",
      "execution_count": 22,
      "metadata": {},
      "outputs": [
        {
          "name": "stdout",
          "output_type": "stream",
          "text": [
            "tf.Tensor([ 3  6  2  4  6 66  7], shape=(7,), dtype=int32)\n",
            "tf.Tensor(3, shape=(), dtype=int32)\n",
            "tf.Tensor([ 6  4 66], shape=(3,), dtype=int32)\n"
          ]
        }
      ],
      "source": [
        "tensor_indexed = tf.constant([3,6,2,4,6,66,7])\n",
        "print(tensor_indexed)\n",
        "print(tensor_indexed[0])\n",
        "print(tensor_indexed[1:6:2]) #start from 1 index and go to 6 by skipping by 2ll"
      ]
    },
    {
      "cell_type": "code",
      "execution_count": 23,
      "metadata": {},
      "outputs": [
        {
          "name": "stdout",
          "output_type": "stream",
          "text": [
            "tf.Tensor(\n",
            "[[ 1  2  0]\n",
            " [ 3  5 -1]\n",
            " [ 1  5  6]\n",
            " [ 2  3  8]], shape=(4, 3), dtype=int32)\n",
            "tf.Tensor(\n",
            "[[1 2]\n",
            " [3 5]\n",
            " [1 5]\n",
            " [2 3]], shape=(4, 2), dtype=int32)\n"
          ]
        }
      ],
      "source": [
        "print(tensor_two_d)\n",
        "print(tensor_two_d[:,0:2])"
      ]
    },
    {
      "cell_type": "code",
      "execution_count": 24,
      "metadata": {},
      "outputs": [
        {
          "name": "stdout",
          "output_type": "stream",
          "text": [
            "tf.Tensor(\n",
            "[[[ 1  2  0]\n",
            "  [ 3  5 -1]]\n",
            "\n",
            " [[10  2  0]\n",
            "  [ 1  0  2]]\n",
            "\n",
            " [[ 5  8  0]\n",
            "  [ 2  7  0]]\n",
            "\n",
            " [[ 2  1  9]\n",
            "  [ 4 -3 32]]], shape=(4, 2, 3), dtype=int32)\n",
            "tf.Tensor(\n",
            "[[[ 1  2]\n",
            "  [ 3  5]]\n",
            "\n",
            " [[10  2]\n",
            "  [ 1  0]]\n",
            "\n",
            " [[ 5  8]\n",
            "  [ 2  7]]], shape=(3, 2, 2), dtype=int32)\n"
          ]
        }
      ],
      "source": [
        "print(tensor_three_d)\n",
        "print(tensor_three_d[0:3,0:2,0:2])"
      ]
    },
    {
      "cell_type": "code",
      "execution_count": 25,
      "metadata": {},
      "outputs": [
        {
          "data": {
            "text/plain": [
              "<tf.Tensor: shape=(2, 1), dtype=float64, numpy=\n",
              "array([[5.25594901],\n",
              "       [6.60492241]])>"
            ]
          },
          "execution_count": 25,
          "metadata": {},
          "output_type": "execute_result"
        }
      ],
      "source": [
        "# complex number\n",
        "x = tf.constant([[-2.25 + 4.75j], [-3.25 + 5.75j]]) #a+bj abs = sqrt(a^2+b^2)\n",
        "tf.abs(x)"
      ]
    },
    {
      "cell_type": "code",
      "execution_count": 26,
      "metadata": {},
      "outputs": [
        {
          "data": {
            "text/plain": [
              "<tf.Tensor: shape=(), dtype=float32, numpy=0.0>"
            ]
          },
          "execution_count": 26,
          "metadata": {},
          "output_type": "execute_result"
        }
      ],
      "source": [
        "tf.constant(3.0) / 0.0\n",
        "tf.math.divide_no_nan(3.0, 0.0) #Computes a safe divide which returns 0 if y (denominator) is zero"
      ]
    },
    {
      "cell_type": "code",
      "execution_count": 27,
      "metadata": {},
      "outputs": [
        {
          "name": "stdout",
          "output_type": "stream",
          "text": [
            "tf.Tensor([12 10 13 13 11 13], shape=(6,), dtype=int32)\n",
            "tf.Tensor([12 10 13 13 11 13], shape=(6,), dtype=int32)\n"
          ]
        }
      ],
      "source": [
        "#if performing math with 2 tensors that are not of equal length it broadcasts the shorter one, which is stretching it out\n",
        "x1 = tf.constant([5,3,6,6,4,6])\n",
        "x2 = tf.constant([7])\n",
        "x2_stretched = tf.constant([7,7,7,7,7,7])\n",
        "print(tf.math.add(x1,x2))\n",
        "print(tf.math.add(x1,x2_stretched))"
      ]
    },
    {
      "cell_type": "code",
      "execution_count": 28,
      "metadata": {},
      "outputs": [
        {
          "name": "stdout",
          "output_type": "stream",
          "text": [
            "tf.Tensor(\n",
            "[[35 21 42 42 28 42]\n",
            " [25 15 30 30 20 30]\n",
            " [15  9 18 18 12 18]], shape=(3, 6), dtype=int32)\n"
          ]
        }
      ],
      "source": [
        "x1 = tf.constant([5,3,6,6,4,6])\n",
        "x2 = tf.constant([[7],[5],[3]])\n",
        "print(tf.math.multiply(x1,x2))"
      ]
    },
    {
      "cell_type": "code",
      "execution_count": 29,
      "metadata": {},
      "outputs": [
        {
          "data": {
            "text/plain": [
              "<tf.Tensor: shape=(2, 2), dtype=int32, numpy=\n",
              "array([[  256, 65536],\n",
              "       [    9,    27]])>"
            ]
          },
          "execution_count": 29,
          "metadata": {},
          "output_type": "execute_result"
        }
      ],
      "source": [
        "x = tf.constant([[2, 2], [3, 3]])\n",
        "y = tf.constant([[8, 16], [2, 3]])\n",
        "tf.pow(x, y)  # [[256, 65536], [9, 27]] x^y"
      ]
    },
    {
      "cell_type": "code",
      "execution_count": 30,
      "metadata": {},
      "outputs": [
        {
          "name": "stdout",
          "output_type": "stream",
          "text": [
            "tf.Tensor(\n",
            "[[ 1  2  0]\n",
            " [ 3  5 -1]\n",
            " [ 1  5  6]\n",
            " [ 2  3  8]], shape=(4, 3), dtype=int32)\n",
            "tf.Tensor(35, shape=(), dtype=int32)\n",
            "tf.Tensor([ 7 15 13], shape=(3,), dtype=int32)\n",
            "tf.Tensor([ 3  7 12 13], shape=(4,), dtype=int32)\n"
          ]
        }
      ],
      "source": [
        "print(tensor_two_d)\n",
        "print(tf.math.reduce_sum(tensor_two_d)) #adds up all the elements in the tensor\n",
        "print(tf.math.reduce_sum(tensor_two_d,axis=0)) #sums from the axis 0, vertical\n",
        "print(tf.math.reduce_sum(tensor_two_d,axis=1)) #sums from the axis 1, horizontal\n"
      ]
    },
    {
      "cell_type": "code",
      "execution_count": 36,
      "metadata": {},
      "outputs": [
        {
          "name": "stdout",
          "output_type": "stream",
          "text": [
            "tf.Tensor(\n",
            "[[30 58 53]\n",
            " [44 85 78]\n",
            " [46 89 84]], shape=(3, 3), dtype=int32)\n",
            "tf.Tensor(\n",
            "[[30 58 53]\n",
            " [44 85 78]\n",
            " [46 89 84]], shape=(3, 3), dtype=int32)\n"
          ]
        }
      ],
      "source": [
        "x = tf.constant([[2, 2, 5], [3, 3, 7],[2, 3, 12]])\n",
        "y = tf.constant([[8, 16, 9], [2, 3, 10],[2, 4, 3]])\n",
        "print(tf.linalg.matmul(x,y)) #matrix multiplication, rows must equal columns\n",
        "print(x@y) #also multiplies"
      ]
    },
    {
      "cell_type": "code",
      "execution_count": 37,
      "metadata": {},
      "outputs": [
        {
          "data": {
            "text/plain": [
              "<tf.Tensor: shape=(3, 3), dtype=int32, numpy=\n",
              "array([[ 2,  3,  2],\n",
              "       [ 2,  3,  3],\n",
              "       [ 5,  7, 12]])>"
            ]
          },
          "execution_count": 37,
          "metadata": {},
          "output_type": "execute_result"
        }
      ],
      "source": [
        "tf.transpose(x) #makes rows become columns and columns become rows"
      ]
    },
    {
      "cell_type": "code",
      "execution_count": null,
      "metadata": {},
      "outputs": [],
      "source": []
    }
  ],
  "metadata": {
    "colab": {
      "provenance": []
    },
    "kernelspec": {
      "display_name": "Python 3",
      "name": "python3"
    },
    "language_info": {
      "codemirror_mode": {
        "name": "ipython",
        "version": 3
      },
      "file_extension": ".py",
      "mimetype": "text/x-python",
      "name": "python",
      "nbconvert_exporter": "python",
      "pygments_lexer": "ipython3",
      "version": "3.11.3"
    }
  },
  "nbformat": 4,
  "nbformat_minor": 0
}
