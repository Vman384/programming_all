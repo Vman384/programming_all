{
 "cells": [
  {
   "cell_type": "code",
   "execution_count": 3,
   "metadata": {},
   "outputs": [],
   "source": [
    "import spacy\n",
    "import re\n",
    "import markovify\n",
    "import nltk\n",
    "import os\n",
    "from fastai.text.all import *"
   ]
  },
  {
   "cell_type": "code",
   "execution_count": 4,
   "metadata": {},
   "outputs": [
    {
     "name": "stdout",
     "output_type": "stream",
     "text": [
      "There are 100 poems in the dataset\n"
     ]
    }
   ],
   "source": [
    "\n",
    "poems = get_text_files(\".\\love\")\n",
    "print(\"There are\",len(poems),\"poems in the dataset\")\n"
   ]
  },
  {
   "cell_type": "code",
   "execution_count": 5,
   "metadata": {},
   "outputs": [
    {
     "name": "stdout",
     "output_type": "stream",
     "text": [
      "Law of love?  Sounds goodâ€¦ so, tell me moreâ€¦\n",
      "Love of law?  mmmâ€¦maybeâ€¦not so sureâ€¦\n",
      "You can disregard the ancients â€“\n",
      "label them  Not Applicable â€“ bin that bulky fileâ€¦\n",
      "or try to make some sense; and they insist\n",
      "that love and law are so close intertwined\n",
      "that together, they may tell\n",
      "more than each other taken individually.\n",
      "What might this mean? Where can we start?\n",
      "Those ancients say that all this universe,\n",
      "all this creation, is one single act of love;\n",
      "love brings it forth, sustains it, nourishes it,\n",
      "and so ultimately, it merges into love;\n",
      "and by the laws of love,\n",
      "which hold all forms by law,\n",
      "our natural state is naught but love;\n",
      "and knowing this, knows no injustice in ourself;\n",
      "knows all as equal; knows no pressures nor compulsions;\n",
      "knows no darkness; and no partiality or preferentiality;\n",
      "and partaking of this universal love,\n",
      "weâ€™re therefore just, and light of heart,\n",
      "and ready of response..\n",
      "and so, this love, which knows ourself as love,\n",
      "(for every creature's nature is pure love)\n",
      "may love the laws which make our nature thus;\n",
      "love the laws of love, and live as love;\n",
      "so out of love, comes law;\n",
      "and out of law, comes love.\n",
      "only in this fleeting moment of the present\n",
      "is our life lived;\n",
      "and only if, in this continuous now,\n",
      "love and law are present in each action,\n",
      "may we make our golden future;\n",
      "live a golden life, where law has made us free.\n",
      "this, the ancients say; the proof is ours to live.\n"
     ]
    }
   ],
   "source": [
    "txt = poems[0].open().read(); #read the first file\n",
    "print(txt)"
   ]
  },
  {
   "cell_type": "code",
   "execution_count": null,
   "metadata": {},
   "outputs": [],
   "source": []
  }
 ],
 "metadata": {
  "kernelspec": {
   "display_name": "Python 3",
   "language": "python",
   "name": "python3"
  },
  "language_info": {
   "codemirror_mode": {
    "name": "ipython",
    "version": 3
   },
   "file_extension": ".py",
   "mimetype": "text/x-python",
   "name": "python",
   "nbconvert_exporter": "python",
   "pygments_lexer": "ipython3",
   "version": "3.11.3"
  },
  "orig_nbformat": 4
 },
 "nbformat": 4,
 "nbformat_minor": 2
}
